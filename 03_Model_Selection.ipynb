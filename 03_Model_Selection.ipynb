{
 "cells": [
  {
   "cell_type": "markdown",
   "id": "2e553f5f-79ce-4d59-b469-5a8d4dd69c34",
   "metadata": {},
   "source": [
    "# Model Selection"
   ]
  },
  {
   "cell_type": "markdown",
   "id": "0727fbb4-c90a-4305-ab64-2dc160b79dbf",
   "metadata": {},
   "source": [
    "### Get API Key"
   ]
  },
  {
   "cell_type": "code",
   "execution_count": 2,
   "id": "072845f5-48df-49f3-af27-7fb9d5ce1302",
   "metadata": {},
   "outputs": [],
   "source": [
    "from helper import load_mistral_api_key\n",
    "api_key, _ = load_mistral_api_key(ret_key=True)"
   ]
  },
  {
   "cell_type": "code",
   "execution_count": 9,
   "id": "d9b6b750-91e4-49f2-a3a0-eaef97627cd5",
   "metadata": {},
   "outputs": [],
   "source": [
    "import os\n",
    "from mistralai.client import MistralClient\n",
    "from mistralai.models.chat_completion import ChatMessage\n",
    "\n",
    "def mistral(user_message, model=\"mistral-small-latest\", is_json=False):\n",
    "    client = MistralClient(api_key=api_key)\n",
    "    messages = [ChatMessage(role=\"user\", content=user_message)]\n",
    "\n",
    "    if is_json:\n",
    "        chat_response = client.chat(\n",
    "            model=model, messages=messages, response_format={\"type\": \"json_object\"}\n",
    "        )\n",
    "    else:\n",
    "        chat_response = client.chat(model=model, messages=messages)\n",
    "\n",
    "    return chat_response.choices[0].message.content"
   ]
  },
  {
   "cell_type": "markdown",
   "id": "0462e002-7f78-40b4-b024-74b0a3bb6a82",
   "metadata": {},
   "source": [
    "## Mistral Small\n",
    "\n",
    "Good for simple tasks, fast inference, lower cost.\n",
    "- classification"
   ]
  },
  {
   "cell_type": "code",
   "execution_count": 10,
   "id": "771a0cfa-3dfd-4cdc-a183-57d2c66ff2c6",
   "metadata": {},
   "outputs": [],
   "source": [
    "prompt = \"\"\"\n",
    "Classify the following email to determine if it is spam or not.\n",
    "Only respond with the exact text \"Spam\" or \"Not Spam\". \n",
    "\n",
    "# Email:\n",
    "🎉 Urgent! You've Won a $1,000,000 Cash Prize! \n",
    "💰 To claim your prize, please click on the link below: \n",
    "https://bit.ly/claim-your-prize\n",
    "\"\"\""
   ]
  },
  {
   "cell_type": "code",
   "execution_count": 11,
   "id": "784b4afa-442a-433a-b06d-e3ae7753fec6",
   "metadata": {},
   "outputs": [
    {
     "data": {
      "text/plain": [
       "'Spam'"
      ]
     },
     "execution_count": 11,
     "metadata": {},
     "output_type": "execute_result"
    }
   ],
   "source": [
    "mistral(prompt, model=\"mistral-small-latest\")"
   ]
  },
  {
   "cell_type": "markdown",
   "id": "04e0b627-8292-4308-82cd-81ee9236167a",
   "metadata": {},
   "source": [
    "## Mistral Medium\n",
    "\n",
    "Good for intermediate tasks such as language transformation.\n",
    "- Composing text based on provided context (e.g. writing a customer service email based on purchase information)."
   ]
  },
  {
   "cell_type": "code",
   "execution_count": 13,
   "id": "b524bf32-80fc-4b41-8e25-f7e0c8e7eb0d",
   "metadata": {},
   "outputs": [],
   "source": [
    "prompt = \"\"\"\n",
    "Compose a welcome email for new customers who have just made \n",
    "their first purchase with your product. \n",
    "Start by expressing your gratitude for their business, \n",
    "and then convey your excitement for having them as a customer. \n",
    "Include relevant details about their recent order. \n",
    "Sign the email with \"The Fun Shop Team\".\n",
    "\n",
    "Order details:\n",
    "- Customer name: Anna\n",
    "- Product: hat \n",
    "- Estimate date of delivery: Feb. 25, 2024\n",
    "- Return policy: 30 days\n",
    "\"\"\""
   ]
  },
  {
   "cell_type": "code",
   "execution_count": 14,
   "id": "0d91c661-3289-4f1b-8ed2-7d4b2c12580d",
   "metadata": {},
   "outputs": [],
   "source": [
    "response_medium = mistral(prompt, model=\"mistral-medium-latest\")"
   ]
  },
  {
   "cell_type": "code",
   "execution_count": 15,
   "id": "0198cac2-295b-4f7a-ba4d-f49a07fb6f87",
   "metadata": {},
   "outputs": [
    {
     "name": "stdout",
     "output_type": "stream",
     "text": [
      "Subject: Welcome to The Fun Shop, Anna! Thank you for your first purchase.\n",
      "\n",
      "Dear Anna,\n",
      "\n",
      "We are thrilled to welcome you to The Fun Shop community! We are so grateful that you have chosen to make your first purchase with us, and we can't wait for you to enjoy your new hat.\n",
      "\n",
      "We want to express our sincere gratitude for your business and let you know that we are committed to providing you with an exceptional shopping experience. Your satisfaction is our top priority, and we hope that you will love your new hat as much as we do.\n",
      "\n",
      "Your order details are as follows:\n",
      "\n",
      "Product: Hat\n",
      "Estimated Delivery Date: Feb. 25, 2024\n",
      "Return Policy: 30 days\n",
      "\n",
      "If you have any questions or concerns about your order, please don't hesitate to contact us. We are always here to help.\n",
      "\n",
      "We also want to remind you that we have a 30-day return policy, so if for any reason you are not completely satisfied with your purchase, you can return it for a full refund within 30 days of delivery.\n",
      "\n",
      "Thank you again for choosing The Fun Shop. We are excited to have you as a customer and look forward to serving you in the future.\n",
      "\n",
      "Best regards,\n",
      "The Fun Shop Team\n"
     ]
    }
   ],
   "source": [
    "print(response_medium)"
   ]
  },
  {
   "cell_type": "markdown",
   "id": "97e03810-12a9-4291-993c-50645c56727e",
   "metadata": {},
   "source": [
    "## Mistral Large: \n",
    "\n",
    "Good for complex tasks that require advanced reasoning.\n",
    "- Math and reasoning with numbers."
   ]
  },
  {
   "cell_type": "code",
   "execution_count": 16,
   "id": "42db9e42-440c-4691-be0c-8582d79390e2",
   "metadata": {},
   "outputs": [],
   "source": [
    "prompt = \"\"\"\n",
    "Calculate the difference in payment dates between the two \\\n",
    "customers whose payment amounts are closest to each other \\\n",
    "in the following dataset. Do not write code.\n",
    "\n",
    "# dataset: \n",
    "'{\n",
    "  \"transaction_id\":{\"0\":\"T1001\",\"1\":\"T1002\",\"2\":\"T1003\",\"3\":\"T1004\",\"4\":\"T1005\"},\n",
    "    \"customer_id\":{\"0\":\"C001\",\"1\":\"C002\",\"2\":\"C003\",\"3\":\"C002\",\"4\":\"C001\"},\n",
    "    \"payment_amount\":{\"0\":125.5,\"1\":89.99,\"2\":120.0,\"3\":54.3,\"4\":210.2},\n",
    "\"payment_date\":{\"0\":\"2021-10-05\",\"1\":\"2021-10-06\",\"2\":\"2021-10-07\",\"3\":\"2021-10-05\",\"4\":\"2021-10-08\"},\n",
    "    \"payment_status\":{\"0\":\"Paid\",\"1\":\"Unpaid\",\"2\":\"Paid\",\"3\":\"Paid\",\"4\":\"Pending\"}\n",
    "}'\n",
    "\"\"\""
   ]
  },
  {
   "cell_type": "code",
   "execution_count": 17,
   "id": "514211dc-a2d9-4998-bf19-530f75429b15",
   "metadata": {},
   "outputs": [],
   "source": [
    "response_small = mistral(prompt, model=\"mistral-small-latest\")"
   ]
  },
  {
   "cell_type": "code",
   "execution_count": 18,
   "id": "48701650-2b61-4f8a-9564-d32fa51a5a32",
   "metadata": {},
   "outputs": [
    {
     "name": "stdout",
     "output_type": "stream",
     "text": [
      "To find the difference in payment dates between the two customers whose payment amounts are closest to each other, follow these steps:\n",
      "\n",
      "1. Sort the payment_amount column in ascending order.\n",
      "2. Compare adjacent payment amounts to find the smallest difference.\n",
      "3. Note down the corresponding customer_ids and payment_dates for these amounts.\n",
      "4. Calculate the difference between the payment_dates of the noted customer_ids.\n",
      "\n",
      "By following these steps, the closest payment amounts are found to be $120.0 and $125.5 for customers C003 and C001, respectively. Their payment dates are \"2021-10-07\" and \"2021-10-05\".\n",
      "\n",
      "The difference in payment dates is 2 days (2021-10-07 - 2021-10-05 = 2 days).\n"
     ]
    }
   ],
   "source": [
    "print(response_small)"
   ]
  },
  {
   "cell_type": "code",
   "execution_count": 19,
   "id": "c1aed041-4409-4362-8f12-62e781a0d993",
   "metadata": {},
   "outputs": [],
   "source": [
    "response_large = mistral(prompt, model=\"mistral-large-latest\")"
   ]
  },
  {
   "cell_type": "code",
   "execution_count": 20,
   "id": "49dd0803-8398-4992-a3d9-9a9b0622ce1d",
   "metadata": {},
   "outputs": [
    {
     "name": "stdout",
     "output_type": "stream",
     "text": [
      "To solve this problem without writing code, we can manually examine the dataset.\n",
      "\n",
      "The payment amounts are:\n",
      "1. C001: 125.5, 210.2\n",
      "2. C002: 89.99, 54.3\n",
      "3. C003: 120.0\n",
      "\n",
      "The payment amounts closest to each other are 125.5 and 120.0, which are from customers C001 and C003 respectively.\n",
      "\n",
      "The corresponding payment dates are:\n",
      "1. C001 (125.5): 2021-10-05\n",
      "2. C003 (120.0): 2021-10-07\n",
      "\n",
      "The difference in payment dates is 2 days (2021-10-07 - 2021-10-05).\n"
     ]
    }
   ],
   "source": [
    "print(response_large)"
   ]
  },
  {
   "cell_type": "markdown",
   "id": "ab2a56c1-c6a6-4a25-8b06-8574028709ee",
   "metadata": {},
   "source": [
    "## Expense reporting task"
   ]
  },
  {
   "cell_type": "code",
   "execution_count": 22,
   "id": "dc95301c-6f6d-4e80-b3b1-a24f26692ba2",
   "metadata": {},
   "outputs": [],
   "source": [
    "transactions = \"\"\"\n",
    "McDonald's: 8.40\n",
    "Safeway: 10.30\n",
    "Carrefour: 15.00\n",
    "Toys R Us: 20.50\n",
    "Panda Express: 10.20\n",
    "Beanie Baby Outlet: 25.60\n",
    "World Food Wraps: 22.70\n",
    "Stuffed Animals Shop: 45.10\n",
    "Sanrio Store: 85.70\n",
    "\"\"\"\n",
    "\n",
    "prompt = f\"\"\"\n",
    "Given the purchase details, how much did I spend on each category:\n",
    "1) restaurants\n",
    "2) groceries\n",
    "3) stuffed animals and props\n",
    "{transactions}\n",
    "\"\"\""
   ]
  },
  {
   "cell_type": "code",
   "execution_count": 23,
   "id": "b82f054b-c9f2-429c-892d-a101901f3199",
   "metadata": {},
   "outputs": [
    {
     "name": "stdout",
     "output_type": "stream",
     "text": [
      "To calculate your spending in each category, I've grouped your purchases as follows:\n",
      "\n",
      "1) Restaurants:\n",
      "   - McDonald's: $8.40\n",
      "   - Panda Express: $10.20\n",
      " Total spending on restaurants: $18.60\n",
      "\n",
      "2) Groceries:\n",
      "   - Safeway: $10.30\n",
      "   - Carrefour: $15.00\n",
      "   - World Food Wraps: $22.70\n",
      " Total spending on groceries: $48.00\n",
      "\n",
      "3) Stuffed animals and props:\n",
      "   - Toys R Us: $20.50\n",
      "   - Beanie Baby Outlet: $25.60\n",
      "   - Stuffed Animals Shop: $45.10\n",
      "   - Sanrio Store: $85.70\n",
      " Total spending on stuffed animals and props: $176.90\n"
     ]
    }
   ],
   "source": [
    "response_small = mistral(prompt, model=\"mistral-small-latest\")\n",
    "print(response_small)"
   ]
  },
  {
   "cell_type": "code",
   "execution_count": 24,
   "id": "1ffcdd59-fc2c-4be8-8ff1-912e5f06bd3b",
   "metadata": {},
   "outputs": [
    {
     "name": "stdout",
     "output_type": "stream",
     "text": [
      "Based on the purchase details you provided, here's the breakdown of your spending in each category:\n",
      "\n",
      "1) Restaurants:\n",
      "   - McDonald's: 8.40\n",
      "   - Panda Express: 10.20\n",
      "   - World Food Wraps: 22.70\n",
      "   Total spent on restaurants: 41.30\n",
      "\n",
      "2) Groceries:\n",
      "   - Safeway: 10.30\n",
      "   - Carrefour: 15.00\n",
      "   Total spent on groceries: 25.30\n",
      "\n",
      "3) Stuffed animals and props:\n",
      "   - Toys R Us: 20.50\n",
      "   - Beanie Baby Outlet: 25.60\n",
      "   - Stuffed Animals Shop: 45.10\n",
      "   - Sanrio Store: 85.70\n",
      "   Total spent on stuffed animals and props: 176.90\n"
     ]
    }
   ],
   "source": [
    "response_large = mistral(prompt, model=\"mistral-large-latest\")\n",
    "print(response_large)"
   ]
  },
  {
   "cell_type": "markdown",
   "id": "5158ad2d-8d63-404e-9556-0cf0661043df",
   "metadata": {},
   "source": [
    "## Writing and checking code"
   ]
  },
  {
   "cell_type": "code",
   "execution_count": 26,
   "id": "c9c9bbe3-20b3-49a8-8ae8-501fd776dc21",
   "metadata": {},
   "outputs": [],
   "source": [
    "user_message = \"\"\"\n",
    "Given an array of integers nums and an integer target, return indices of the two numbers such that they add up to target.\n",
    "\n",
    "You may assume that each input would have exactly one solution, and you may not use the same element twice.\n",
    "\n",
    "You can return the answer in any order.\n",
    "\n",
    "Your code should pass these tests:\n",
    "\n",
    "assert twoSum([2,7,11,15], 9) == [0,1]\n",
    "assert twoSum([3,2,4], 6) == [1,2]\n",
    "assert twoSum([3,3], 6) == [0,1]\n",
    "\"\"\""
   ]
  },
  {
   "cell_type": "code",
   "execution_count": 27,
   "id": "7f6afc07-4f59-45f9-a491-d7a08e705be0",
   "metadata": {
    "collapsed": true,
    "jupyter": {
     "outputs_hidden": true
    },
    "scrolled": true
   },
   "outputs": [
    {
     "name": "stdout",
     "output_type": "stream",
     "text": [
      "Here is a Python solution for the problem:\n",
      "\n",
      "```python\n",
      "def twoSum(nums, target):\n",
      "    if len(nums) <= 1:\n",
      "        return False\n",
      "\n",
      "    for i in range(len(nums)):\n",
      "        for j in range(i+1, len(nums)):\n",
      "            if nums[i] + nums[j] == target:\n",
      "                return [i, j]\n",
      "\n",
      "    return False\n",
      "```\n",
      "\n",
      "This function uses a nested loop to iterate through the array and check if the sum of two numbers is equal to the target. If it finds such a pair, it returns their indices. If it doesn't find any pair, it returns False.\n",
      "\n",
      "However, this function has a time complexity of O(n^2) which can be slow for large arrays. A more efficient solution with a time complexity of O(n) can be achieved using a hash map:\n",
      "\n",
      "```python\n",
      "def twoSum(nums, target):\n",
      "    if len(nums) <= 1:\n",
      "        return False\n",
      "\n",
      "    num_map = {}\n",
      "    for i, num in enumerate(nums):\n",
      "        complement = target - num\n",
      "        if complement in num_map:\n",
      "            return [num_map[complement], i]\n",
      "        num_map[num] = i\n",
      "\n",
      "    return False\n",
      "```\n",
      "\n",
      "In this function, we iterate through the array and for each number, we calculate its complement (i.e., the number that we need to add to it to get the target). We then check if this complement is in our hash map. If it is, we have found our pair and we return their indices. If it's not, we add the current number and its index to the hash map and we move to the next number.\n",
      "\n",
      "This function is more efficient because it only needs to iterate through the array once.\n",
      "\n",
      "You can test the function with your test cases:\n",
      "\n",
      "```python\n",
      "assert twoSum([2,7,11,15], 9) == [0,1]\n",
      "assert twoSum([3,2,4], 6) == [1,2]\n",
      "assert twoSum([3,3], 6) == [0,1]\n",
      "```\n"
     ]
    }
   ],
   "source": [
    "print(mistral(user_message, model=\"mistral-large-latest\"))"
   ]
  },
  {
   "cell_type": "markdown",
   "id": "281ccaa1-b580-44a1-ada4-26db4a7f3dbb",
   "metadata": {},
   "source": [
    "Here is a Python solution for the problem:\n",
    "\n",
    "```python\n",
    "def twoSum(nums, target):\n",
    "    if len(nums) <= 1:\n",
    "        return False\n",
    "\n",
    "    for i in range(len(nums)):\n",
    "        for j in range(i+1, len(nums)):\n",
    "            if nums[i] + nums[j] == target:\n",
    "                return [i, j]\n",
    "\n",
    "    return False\n",
    "```\n",
    "\n",
    "This function uses a nested loop to iterate through the array and check if the sum of two numbers is equal to the target. If it finds such a pair, it returns their indices. If it doesn't find any pair, it returns False.\n",
    "\n",
    "However, this function has a time complexity of O(n^2) which can be slow for large arrays. A more efficient solution with a time complexity of O(n) can be achieved using a hash map:\n",
    "\n",
    "```python\n",
    "def twoSum(nums, target):\n",
    "    if len(nums) <= 1:\n",
    "        return False\n",
    "\n",
    "    num_map = {}\n",
    "    for i, num in enumerate(nums):\n",
    "        complement = target - num\n",
    "        if complement in num_map:\n",
    "            return [num_map[complement], i]\n",
    "        num_map[num] = i\n",
    "\n",
    "    return False\n",
    "```\n",
    "\n",
    "In this function, we iterate through the array and for each number, we calculate its complement (i.e., the number that we need to add to it to get the target). We then check if this complement is in our hash map. If it is, we have found our pair and we return their indices. If it's not, we add the current number and its index to the hash map and we move to the next number.\n",
    "\n",
    "This function is more efficient because it only needs to iterate through the array once.\n",
    "\n",
    "You can test the function with your test cases:\n",
    "\n",
    "```python\n",
    "assert twoSum([2,7,11,15], 9) == [0,1]\n",
    "assert twoSum([3,2,4], 6) == [1,2]\n",
    "assert twoSum([3,3], 6) == [0,1]"
   ]
  },
  {
   "cell_type": "markdown",
   "id": "9279e94c-9afd-44a2-a9a9-e89c69cebde0",
   "metadata": {},
   "source": [
    "## Natively Fluent in English, French, Spanish, German, and Italian\n",
    "- This means that you can use Mistral models for more than translating from one language to another.\n",
    "- If you are a native Spanish speaker, for instance, you can communicate with Mistral models in Spanish for any of your tasks."
   ]
  },
  {
   "cell_type": "code",
   "execution_count": 29,
   "id": "7aff61c8-2592-4c56-9cbf-df9c185a38ca",
   "metadata": {},
   "outputs": [],
   "source": [
    "user_message = \"\"\"\n",
    "Lequel est le plus lourd une livre de fer ou un kilogramme de plume\n",
    "\"\"\""
   ]
  },
  {
   "cell_type": "code",
   "execution_count": 30,
   "id": "db4b2a09-f7e9-4be2-b787-8fc9295843a1",
   "metadata": {},
   "outputs": [
    {
     "name": "stdout",
     "output_type": "stream",
     "text": [
      "Une livre (lb) est une unité de mesure de masse principalement utilisée aux États-Unis et dans d'autres systèmes de mesure impériaux, tandis qu'un kilogramme (kg) est l'unité de base de masse dans le système métrique (ou le Système international d'unités, SI).\n",
      "\n",
      "Pour répondre à votre question, il est important de convertir les deux mesures dans la même unité. Une livre est approximativement égale à 0,453592 kilogrammes. Donc, une livre de fer est égale à environ 0,453592 kg.\n",
      "\n",
      "D'autre part, un kilogramme de plumes est, par définition, égal à un kilogramme, soit 1 kg.\n",
      "\n",
      "Par conséquent, un kilogramme de plumes est plus lourd qu'une livre de fer.\n"
     ]
    }
   ],
   "source": [
    "print(mistral(user_message, model=\"mistral-large-latest\"))"
   ]
  },
  {
   "cell_type": "markdown",
   "id": "3414b80f-ae01-4772-b1f7-06ca3cdebae1",
   "metadata": {},
   "source": [
    "## List of Mistral models that you can call:\n",
    "\n",
    "You can also call the two open source mistral models via API calls.\n",
    "Here is the list of models that you can try:\n",
    "```\n",
    "open-mistral-7b\n",
    "open-mixtral-8x7b\n",
    "open-mixtral-8x22b\n",
    "mistral-small-latest\n",
    "mistral-medium-latest\n",
    "mistral-large-latest\n",
    "```\n",
    "\n",
    "For example:\n",
    "```Python\n",
    "mistral(prompt, model=\"open-mixtral-8x22b\")\n",
    "```\n",
    "\n",
    "Note that we just released the `open-mixtral-8x22b` model. Check out our [release blog](https://mistral.ai/news/mixtral-8x22b/) for details. "
   ]
  },
  {
   "cell_type": "code",
   "execution_count": null,
   "id": "8548bdac-0135-4368-bc61-3f8587e0481d",
   "metadata": {},
   "outputs": [],
   "source": []
  }
 ],
 "metadata": {
  "kernelspec": {
   "display_name": "Python 3 (ipykernel)",
   "language": "python",
   "name": "python3"
  },
  "language_info": {
   "codemirror_mode": {
    "name": "ipython",
    "version": 3
   },
   "file_extension": ".py",
   "mimetype": "text/x-python",
   "name": "python",
   "nbconvert_exporter": "python",
   "pygments_lexer": "ipython3",
   "version": "3.9.19"
  }
 },
 "nbformat": 4,
 "nbformat_minor": 5
}
